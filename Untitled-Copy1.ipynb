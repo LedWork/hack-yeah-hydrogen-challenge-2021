{
 "cells": [
  {
   "cell_type": "code",
   "execution_count": 1,
   "id": "9dfa7a25",
   "metadata": {},
   "outputs": [],
   "source": [
    "import pandas as pd"
   ]
  },
  {
   "cell_type": "code",
   "execution_count": 2,
   "id": "2d3104c1",
   "metadata": {},
   "outputs": [],
   "source": [
    "import pulp as plp"
   ]
  },
  {
   "cell_type": "code",
   "execution_count": 3,
   "id": "415ef376",
   "metadata": {},
   "outputs": [],
   "source": [
    "# stworzenie zbioru indeksów - docelowo muszą być zaczytane z xls\n",
    "# lokalizacje wodór\n",
    "locations = [1,2,3]\n",
    "# przedzialy czasu\n",
    "time = [1,2,3,4,5,6,7,8,9,10,11,12]\n",
    "time_accu =[0,1,2,3,4,5,6,7,8,9,10,11,12]\n",
    "pv_kWh = {1:100,2:100,3:100,4:100,5:100,6:100,7:100,8:100,9:100,10:100,11:100,12:100}\n",
    "e_to_H2 = 432\n",
    " "
   ]
  },
  {
   "cell_type": "code",
   "execution_count": 4,
   "id": "fb00d31d",
   "metadata": {},
   "outputs": [],
   "source": [
    "# max numver of pv per location\n",
    "max_pv = {1:25,2:70,3:100}"
   ]
  },
  {
   "cell_type": "code",
   "execution_count": 5,
   "id": "a2f99c77",
   "metadata": {},
   "outputs": [
    {
     "name": "stdout",
     "output_type": "stream",
     "text": [
      "[1, 2, 3]\n",
      "[1, 2, 3, 4, 5, 6, 7, 8, 9, 10, 11, 12]\n",
      "1\n",
      "2\n",
      "3\n"
     ]
    }
   ],
   "source": [
    "print(locations)\n",
    "print(time)\n",
    "\n",
    "for n in range(len(locations)):\n",
    "    print(locations[n])"
   ]
  },
  {
   "cell_type": "code",
   "execution_count": 6,
   "id": "5a16eb33",
   "metadata": {},
   "outputs": [],
   "source": [
    "# ZMIENNE\n",
    "# number of PV per location\n",
    "\n",
    "\n",
    "# number of energy storage units per location\n",
    "Accu_pv_n = plp.LpVariable.dicts(\"accu_pv_count\",\n",
    "                                     ((l) for l in locations),\n",
    "                                     lowBound=0,\n",
    "                                     cat='Integer')\n",
    "\n",
    "\n"
   ]
  },
  {
   "cell_type": "code",
   "execution_count": 7,
   "id": "d9096a4c",
   "metadata": {},
   "outputs": [],
   "source": [
    "# number of energy storage per location\n"
   ]
  },
  {
   "cell_type": "code",
   "execution_count": 8,
   "id": "087508a6",
   "metadata": {},
   "outputs": [],
   "source": [
    "# number of electrolysers per location"
   ]
  },
  {
   "cell_type": "code",
   "execution_count": 9,
   "id": "c6a3362b",
   "metadata": {},
   "outputs": [],
   "source": [
    "# DEFINICJA PROBLEMU\n",
    "opt_model = plp.LpProblem(\"Optimizer\", plp.LpMaximize)\n"
   ]
  },
  {
   "cell_type": "code",
   "execution_count": 10,
   "id": "ef4c15ed",
   "metadata": {},
   "outputs": [],
   "source": [
    "# FUNKCJA CELU\n",
    "# opt_model += plp.lpSum(E_production_pv[l,dt] for l in locations for dt in time)\n",
    "# opt_model += plp.lpSum(E_stored_pv[l,dt] for l in locations for dt in time_accu)\n",
    "opt_model += plp.lpSum(Accu_pv_n[l] for l in locations)\n",
    "\n"
   ]
  },
  {
   "cell_type": "code",
   "execution_count": null,
   "id": "03a4ee1e",
   "metadata": {},
   "outputs": [],
   "source": []
  },
  {
   "cell_type": "code",
   "execution_count": 11,
   "id": "f0be64f6",
   "metadata": {},
   "outputs": [],
   "source": [
    "# OGRANICZENIA\n",
    "\n",
    "# tymczasowe ograniczenie na liczb akumulatorow\n",
    "for i in locations:\n",
    "    opt_model += Accu_pv_n[i] <= 1\n",
    "    \n",
    "for i in locations:\n",
    "    for j in time:\n",
    "        opt_model += E_stored_pv[i,j] <= 10"
   ]
  },
  {
   "cell_type": "code",
   "execution_count": 12,
   "id": "53fb2de4",
   "metadata": {},
   "outputs": [
    {
     "data": {
      "text/plain": [
       "<bound method LpProblem.solve of Optimizer:\n",
       "MAXIMIZE\n",
       "1*accu_pv_count_1 + 1*accu_pv_count_2 + 1*accu_pv_count_3 + 0\n",
       "SUBJECT TO\n",
       "_C1: accu_pv_count_1 <= 1\n",
       "\n",
       "_C2: accu_pv_count_2 <= 1\n",
       "\n",
       "_C3: accu_pv_count_3 <= 1\n",
       "\n",
       "VARIABLES\n",
       "0 <= accu_pv_count_1 Integer\n",
       "0 <= accu_pv_count_2 Integer\n",
       "0 <= accu_pv_count_3 Integer\n",
       ">"
      ]
     },
     "execution_count": 12,
     "metadata": {},
     "output_type": "execute_result"
    }
   ],
   "source": [
    "opt_model.solve"
   ]
  },
  {
   "cell_type": "code",
   "execution_count": 13,
   "id": "d24d6928",
   "metadata": {},
   "outputs": [],
   "source": [
    "status=opt_model.solve(plp.PULP_CBC_CMD(msg=1))"
   ]
  },
  {
   "cell_type": "code",
   "execution_count": 14,
   "id": "98f7d1d3",
   "metadata": {},
   "outputs": [
    {
     "data": {
      "text/plain": [
       "'Optimal'"
      ]
     },
     "execution_count": 14,
     "metadata": {},
     "output_type": "execute_result"
    }
   ],
   "source": [
    "plp.LpStatus[status]"
   ]
  },
  {
   "cell_type": "code",
   "execution_count": 15,
   "id": "e747ed79",
   "metadata": {},
   "outputs": [
    {
     "name": "stdout",
     "output_type": "stream",
     "text": [
      "accu_pv_count_1 = 1.0\n",
      "accu_pv_count_2 = 1.0\n",
      "accu_pv_count_3 = 1.0\n"
     ]
    }
   ],
   "source": [
    "for v in opt_model.variables():\n",
    "    print(v.name,\"=\",v.varValue)"
   ]
  },
  {
   "cell_type": "code",
   "execution_count": null,
   "id": "4f2c0165",
   "metadata": {},
   "outputs": [],
   "source": []
  },
  {
   "cell_type": "code",
   "execution_count": null,
   "id": "d6a08504",
   "metadata": {},
   "outputs": [],
   "source": []
  },
  {
   "cell_type": "code",
   "execution_count": null,
   "id": "ba952f8e",
   "metadata": {},
   "outputs": [],
   "source": []
  }
 ],
 "metadata": {
  "kernelspec": {
   "display_name": "Python 3 (ipykernel)",
   "language": "python",
   "name": "python3"
  },
  "language_info": {
   "codemirror_mode": {
    "name": "ipython",
    "version": 3
   },
   "file_extension": ".py",
   "mimetype": "text/x-python",
   "name": "python",
   "nbconvert_exporter": "python",
   "pygments_lexer": "ipython3",
   "version": "3.9.7"
  }
 },
 "nbformat": 4,
 "nbformat_minor": 5
}
