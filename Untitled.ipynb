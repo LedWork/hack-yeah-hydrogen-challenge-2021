{
 "cells": [
  {
   "cell_type": "code",
   "execution_count": 1,
   "id": "9dfa7a25",
   "metadata": {},
   "outputs": [],
   "source": [
    "import pandas as pd"
   ]
  },
  {
   "cell_type": "code",
   "execution_count": 2,
   "id": "2d3104c1",
   "metadata": {},
   "outputs": [],
   "source": [
    "import pulp as plp"
   ]
  },
  {
   "cell_type": "code",
   "execution_count": 26,
   "id": "415ef376",
   "metadata": {},
   "outputs": [],
   "source": [
    "# stworzenie zbioru indeksów - docelowo muszą być zaczytane z xls\n",
    "# lokalizacje wodór\n",
    "locations = [1,2,3]\n",
    "# przedzialy czasu\n",
    "time = [1,2,3,4,5,6,7,8,9,10,11,12]\n",
    "pv_kWh = {1:100,2:100,3:100,4:100,5:100,6:100,7:100,8:100,9:100,10:100,11:100,12:100}"
   ]
  },
  {
   "cell_type": "code",
   "execution_count": 27,
   "id": "4bc9b980",
   "metadata": {},
   "outputs": [],
   "source": [
    "# max numver of pv per location\n",
    "max_pv = {1:25,2:70,3:100}"
   ]
  },
  {
   "cell_type": "code",
   "execution_count": 28,
   "id": "30ed2860",
   "metadata": {},
   "outputs": [
    {
     "name": "stdout",
     "output_type": "stream",
     "text": [
      "[1, 2, 3]\n",
      "[1, 2, 3, 4, 5, 6, 7, 8, 9, 10, 11, 12]\n",
      "1\n",
      "2\n",
      "3\n"
     ]
    }
   ],
   "source": [
    "print(locations)\n",
    "print(time)\n",
    "\n",
    "for n in range(len(locations)):\n",
    "    print(locations[n])"
   ]
  },
  {
   "cell_type": "code",
   "execution_count": 29,
   "id": "625a3d5b",
   "metadata": {},
   "outputs": [],
   "source": [
    "# ZMIENNE\n",
    "# number of PV per location\n",
    "Pv_n = plp.LpVariable.dicts(\"pv_count\",\n",
    "                                     ((l) for l in locations),\n",
    "                                     lowBound=0,\n",
    "                                     cat='Integer')\n",
    "\n",
    "# energy production per location and time\n",
    "E_production_pv = plp.LpVariable.dicts(\"E_production_pv\",\n",
    "                                     ((l, dt) for l in locations for dt in time),\n",
    "                                     lowBound=0,\n",
    "                                     cat='Continuous')\n",
    "\n",
    "# energy stored per location and time\n",
    "E_stored_pv = plp.LpVariable.dicts(\"E_stored_pv\",\n",
    "                                     ((l, dt) for l in locations for dt in time),\n",
    "                                     lowBound=0,\n",
    "                                     cat='Continuous')\n",
    "\n"
   ]
  },
  {
   "cell_type": "code",
   "execution_count": 30,
   "id": "fdab34ff",
   "metadata": {},
   "outputs": [],
   "source": [
    "# number of energy storage per location\n"
   ]
  },
  {
   "cell_type": "code",
   "execution_count": 31,
   "id": "89ef73b5",
   "metadata": {},
   "outputs": [],
   "source": [
    "# number of electrolysers per location"
   ]
  },
  {
   "cell_type": "code",
   "execution_count": 32,
   "id": "5a0b514d",
   "metadata": {},
   "outputs": [],
   "source": [
    "# DEFINICJA PROBLEMU\n",
    "opt_model = plp.LpProblem(\"Optimizer\", plp.LpMaximize)\n"
   ]
  },
  {
   "cell_type": "code",
   "execution_count": 33,
   "id": "f0143d63",
   "metadata": {},
   "outputs": [],
   "source": [
    "# FUNKCJA CELU\n",
    "opt_model += plp.lpSum(E_production_pv[l,dt] for l in locations for dt in time)"
   ]
  },
  {
   "cell_type": "code",
   "execution_count": null,
   "id": "bc460818",
   "metadata": {},
   "outputs": [],
   "source": []
  },
  {
   "cell_type": "code",
   "execution_count": 34,
   "id": "a4ec848c",
   "metadata": {},
   "outputs": [
    {
     "name": "stdout",
     "output_type": "stream",
     "text": [
      "1\n",
      "pv_count_1\n",
      "25\n",
      "2\n",
      "pv_count_2\n",
      "70\n",
      "3\n",
      "pv_count_3\n",
      "100\n"
     ]
    }
   ],
   "source": [
    "# OGRANICZENIA\n",
    "# max moc zainstalowana per lokalizacje\n",
    "for i in locations:\n",
    "    print(i)\n",
    "    print(Pv_n[i])\n",
    "    print(max_pv[i])\n",
    "    opt_model += Pv_n[i] <= max_pv[i]\n",
    "    \n",
    "for i in locations:\n",
    "    for j in time:\n",
    "        opt_model += E_production_pv[i,j] <= Pv_n[i] * pv_kWh[j]"
   ]
  },
  {
   "cell_type": "code",
   "execution_count": 35,
   "id": "ee4d9517",
   "metadata": {},
   "outputs": [
    {
     "data": {
      "text/plain": [
       "<bound method LpProblem.solve of Optimizer:\n",
       "MAXIMIZE\n",
       "1*E_production_pv_(1,_1) + 1*E_production_pv_(1,_10) + 1*E_production_pv_(1,_11) + 1*E_production_pv_(1,_12) + 1*E_production_pv_(1,_2) + 1*E_production_pv_(1,_3) + 1*E_production_pv_(1,_4) + 1*E_production_pv_(1,_5) + 1*E_production_pv_(1,_6) + 1*E_production_pv_(1,_7) + 1*E_production_pv_(1,_8) + 1*E_production_pv_(1,_9) + 1*E_production_pv_(2,_1) + 1*E_production_pv_(2,_10) + 1*E_production_pv_(2,_11) + 1*E_production_pv_(2,_12) + 1*E_production_pv_(2,_2) + 1*E_production_pv_(2,_3) + 1*E_production_pv_(2,_4) + 1*E_production_pv_(2,_5) + 1*E_production_pv_(2,_6) + 1*E_production_pv_(2,_7) + 1*E_production_pv_(2,_8) + 1*E_production_pv_(2,_9) + 1*E_production_pv_(3,_1) + 1*E_production_pv_(3,_10) + 1*E_production_pv_(3,_11) + 1*E_production_pv_(3,_12) + 1*E_production_pv_(3,_2) + 1*E_production_pv_(3,_3) + 1*E_production_pv_(3,_4) + 1*E_production_pv_(3,_5) + 1*E_production_pv_(3,_6) + 1*E_production_pv_(3,_7) + 1*E_production_pv_(3,_8) + 1*E_production_pv_(3,_9) + 0\n",
       "SUBJECT TO\n",
       "_C1: pv_count_1 <= 25\n",
       "\n",
       "_C2: pv_count_2 <= 70\n",
       "\n",
       "_C3: pv_count_3 <= 100\n",
       "\n",
       "_C4: E_production_pv_(1,_1) - 100 pv_count_1 <= 0\n",
       "\n",
       "_C5: E_production_pv_(1,_2) - 100 pv_count_1 <= 0\n",
       "\n",
       "_C6: E_production_pv_(1,_3) - 100 pv_count_1 <= 0\n",
       "\n",
       "_C7: E_production_pv_(1,_4) - 100 pv_count_1 <= 0\n",
       "\n",
       "_C8: E_production_pv_(1,_5) - 100 pv_count_1 <= 0\n",
       "\n",
       "_C9: E_production_pv_(1,_6) - 100 pv_count_1 <= 0\n",
       "\n",
       "_C10: E_production_pv_(1,_7) - 100 pv_count_1 <= 0\n",
       "\n",
       "_C11: E_production_pv_(1,_8) - 100 pv_count_1 <= 0\n",
       "\n",
       "_C12: E_production_pv_(1,_9) - 100 pv_count_1 <= 0\n",
       "\n",
       "_C13: E_production_pv_(1,_10) - 100 pv_count_1 <= 0\n",
       "\n",
       "_C14: E_production_pv_(1,_11) - 100 pv_count_1 <= 0\n",
       "\n",
       "_C15: E_production_pv_(1,_12) - 100 pv_count_1 <= 0\n",
       "\n",
       "_C16: E_production_pv_(2,_1) - 100 pv_count_2 <= 0\n",
       "\n",
       "_C17: E_production_pv_(2,_2) - 100 pv_count_2 <= 0\n",
       "\n",
       "_C18: E_production_pv_(2,_3) - 100 pv_count_2 <= 0\n",
       "\n",
       "_C19: E_production_pv_(2,_4) - 100 pv_count_2 <= 0\n",
       "\n",
       "_C20: E_production_pv_(2,_5) - 100 pv_count_2 <= 0\n",
       "\n",
       "_C21: E_production_pv_(2,_6) - 100 pv_count_2 <= 0\n",
       "\n",
       "_C22: E_production_pv_(2,_7) - 100 pv_count_2 <= 0\n",
       "\n",
       "_C23: E_production_pv_(2,_8) - 100 pv_count_2 <= 0\n",
       "\n",
       "_C24: E_production_pv_(2,_9) - 100 pv_count_2 <= 0\n",
       "\n",
       "_C25: E_production_pv_(2,_10) - 100 pv_count_2 <= 0\n",
       "\n",
       "_C26: E_production_pv_(2,_11) - 100 pv_count_2 <= 0\n",
       "\n",
       "_C27: E_production_pv_(2,_12) - 100 pv_count_2 <= 0\n",
       "\n",
       "_C28: E_production_pv_(3,_1) - 100 pv_count_3 <= 0\n",
       "\n",
       "_C29: E_production_pv_(3,_2) - 100 pv_count_3 <= 0\n",
       "\n",
       "_C30: E_production_pv_(3,_3) - 100 pv_count_3 <= 0\n",
       "\n",
       "_C31: E_production_pv_(3,_4) - 100 pv_count_3 <= 0\n",
       "\n",
       "_C32: E_production_pv_(3,_5) - 100 pv_count_3 <= 0\n",
       "\n",
       "_C33: E_production_pv_(3,_6) - 100 pv_count_3 <= 0\n",
       "\n",
       "_C34: E_production_pv_(3,_7) - 100 pv_count_3 <= 0\n",
       "\n",
       "_C35: E_production_pv_(3,_8) - 100 pv_count_3 <= 0\n",
       "\n",
       "_C36: E_production_pv_(3,_9) - 100 pv_count_3 <= 0\n",
       "\n",
       "_C37: E_production_pv_(3,_10) - 100 pv_count_3 <= 0\n",
       "\n",
       "_C38: E_production_pv_(3,_11) - 100 pv_count_3 <= 0\n",
       "\n",
       "_C39: E_production_pv_(3,_12) - 100 pv_count_3 <= 0\n",
       "\n",
       "VARIABLES\n",
       "E_production_pv_(1,_1) Continuous\n",
       "E_production_pv_(1,_10) Continuous\n",
       "E_production_pv_(1,_11) Continuous\n",
       "E_production_pv_(1,_12) Continuous\n",
       "E_production_pv_(1,_2) Continuous\n",
       "E_production_pv_(1,_3) Continuous\n",
       "E_production_pv_(1,_4) Continuous\n",
       "E_production_pv_(1,_5) Continuous\n",
       "E_production_pv_(1,_6) Continuous\n",
       "E_production_pv_(1,_7) Continuous\n",
       "E_production_pv_(1,_8) Continuous\n",
       "E_production_pv_(1,_9) Continuous\n",
       "E_production_pv_(2,_1) Continuous\n",
       "E_production_pv_(2,_10) Continuous\n",
       "E_production_pv_(2,_11) Continuous\n",
       "E_production_pv_(2,_12) Continuous\n",
       "E_production_pv_(2,_2) Continuous\n",
       "E_production_pv_(2,_3) Continuous\n",
       "E_production_pv_(2,_4) Continuous\n",
       "E_production_pv_(2,_5) Continuous\n",
       "E_production_pv_(2,_6) Continuous\n",
       "E_production_pv_(2,_7) Continuous\n",
       "E_production_pv_(2,_8) Continuous\n",
       "E_production_pv_(2,_9) Continuous\n",
       "E_production_pv_(3,_1) Continuous\n",
       "E_production_pv_(3,_10) Continuous\n",
       "E_production_pv_(3,_11) Continuous\n",
       "E_production_pv_(3,_12) Continuous\n",
       "E_production_pv_(3,_2) Continuous\n",
       "E_production_pv_(3,_3) Continuous\n",
       "E_production_pv_(3,_4) Continuous\n",
       "E_production_pv_(3,_5) Continuous\n",
       "E_production_pv_(3,_6) Continuous\n",
       "E_production_pv_(3,_7) Continuous\n",
       "E_production_pv_(3,_8) Continuous\n",
       "E_production_pv_(3,_9) Continuous\n",
       "0 <= pv_count_1 Integer\n",
       "0 <= pv_count_2 Integer\n",
       "0 <= pv_count_3 Integer\n",
       ">"
      ]
     },
     "execution_count": 35,
     "metadata": {},
     "output_type": "execute_result"
    }
   ],
   "source": [
    "opt_model.solve"
   ]
  },
  {
   "cell_type": "code",
   "execution_count": 36,
   "id": "83750438",
   "metadata": {},
   "outputs": [],
   "source": [
    "status=opt_model.solve()"
   ]
  },
  {
   "cell_type": "code",
   "execution_count": 37,
   "id": "4f191750",
   "metadata": {},
   "outputs": [
    {
     "data": {
      "text/plain": [
       "'Optimal'"
      ]
     },
     "execution_count": 37,
     "metadata": {},
     "output_type": "execute_result"
    }
   ],
   "source": [
    "plp.LpStatus[status]"
   ]
  },
  {
   "cell_type": "code",
   "execution_count": 38,
   "id": "dc8004d3",
   "metadata": {},
   "outputs": [
    {
     "name": "stdout",
     "output_type": "stream",
     "text": [
      "E_production_pv_(1,_1) = 2500.0\n",
      "E_production_pv_(1,_10) = 2500.0\n",
      "E_production_pv_(1,_11) = 2500.0\n",
      "E_production_pv_(1,_12) = 2500.0\n",
      "E_production_pv_(1,_2) = 2500.0\n",
      "E_production_pv_(1,_3) = 2500.0\n",
      "E_production_pv_(1,_4) = 2500.0\n",
      "E_production_pv_(1,_5) = 2500.0\n",
      "E_production_pv_(1,_6) = 2500.0\n",
      "E_production_pv_(1,_7) = 2500.0\n",
      "E_production_pv_(1,_8) = 2500.0\n",
      "E_production_pv_(1,_9) = 2500.0\n",
      "E_production_pv_(2,_1) = 7000.0\n",
      "E_production_pv_(2,_10) = 7000.0\n",
      "E_production_pv_(2,_11) = 7000.0\n",
      "E_production_pv_(2,_12) = 7000.0\n",
      "E_production_pv_(2,_2) = 7000.0\n",
      "E_production_pv_(2,_3) = 7000.0\n",
      "E_production_pv_(2,_4) = 7000.0\n",
      "E_production_pv_(2,_5) = 7000.0\n",
      "E_production_pv_(2,_6) = 7000.0\n",
      "E_production_pv_(2,_7) = 7000.0\n",
      "E_production_pv_(2,_8) = 7000.0\n",
      "E_production_pv_(2,_9) = 7000.0\n",
      "E_production_pv_(3,_1) = 10000.0\n",
      "E_production_pv_(3,_10) = 10000.0\n",
      "E_production_pv_(3,_11) = 10000.0\n",
      "E_production_pv_(3,_12) = 10000.0\n",
      "E_production_pv_(3,_2) = 10000.0\n",
      "E_production_pv_(3,_3) = 10000.0\n",
      "E_production_pv_(3,_4) = 10000.0\n",
      "E_production_pv_(3,_5) = 10000.0\n",
      "E_production_pv_(3,_6) = 10000.0\n",
      "E_production_pv_(3,_7) = 10000.0\n",
      "E_production_pv_(3,_8) = 10000.0\n",
      "E_production_pv_(3,_9) = 10000.0\n",
      "pv_count_1 = 25.0\n",
      "pv_count_2 = 70.0\n",
      "pv_count_3 = 100.0\n"
     ]
    }
   ],
   "source": [
    "for v in opt_model.variables():\n",
    "    print(v.name,\"=\",v.varValue)"
   ]
  },
  {
   "cell_type": "code",
   "execution_count": null,
   "id": "b0ab8415",
   "metadata": {},
   "outputs": [],
   "source": []
  },
  {
   "cell_type": "code",
   "execution_count": null,
   "id": "f2ee75aa",
   "metadata": {},
   "outputs": [],
   "source": []
  }
 ],
 "metadata": {
  "kernelspec": {
   "display_name": "Python 3 (ipykernel)",
   "language": "python",
   "name": "python3"
  },
  "language_info": {
   "codemirror_mode": {
    "name": "ipython",
    "version": 3
   },
   "file_extension": ".py",
   "mimetype": "text/x-python",
   "name": "python",
   "nbconvert_exporter": "python",
   "pygments_lexer": "ipython3",
   "version": "3.9.7"
  }
 },
 "nbformat": 4,
 "nbformat_minor": 5
}
